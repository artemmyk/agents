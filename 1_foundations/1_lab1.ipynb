{
 "cells": [
  {
   "cell_type": "markdown",
   "metadata": {},
   "source": [
    "# Welcome to the start of your adventure in Agentic AI"
   ]
  },
  {
   "cell_type": "markdown",
   "metadata": {},
   "source": [
    "<table style=\"margin: 0; text-align: left; width:100%\">\n",
    "    <tr>\n",
    "        <td style=\"width: 150px; height: 150px; vertical-align: middle;\">\n",
    "            <img src=\"../assets/stop.png\" width=\"150\" height=\"150\" style=\"display: block;\" />\n",
    "        </td>\n",
    "        <td>\n",
    "            <h2 style=\"color:#ff7800;\">Are you ready for action??</h2>\n",
    "            <span style=\"color:#ff7800;\">Have you completed all the setup steps in the <a href=\"../setup/\">setup</a> folder?<br/>\n",
    "            Have you read the <a href=\"../README.md\">README</a>? Many common questions are answered here!<br/>\n",
    "            Have you checked out the guides in the <a href=\"../guides/01_intro.ipynb\">guides</a> folder?<br/>\n",
    "            Well in that case, you're ready!!\n",
    "            </span>\n",
    "        </td>\n",
    "    </tr>\n",
    "</table>"
   ]
  },
  {
   "cell_type": "markdown",
   "metadata": {},
   "source": [
    "<table style=\"margin: 0; text-align: left; width:100%\">\n",
    "    <tr>\n",
    "        <td style=\"width: 150px; height: 150px; vertical-align: middle;\">\n",
    "            <img src=\"../assets/tools.png\" width=\"150\" height=\"150\" style=\"display: block;\" />\n",
    "        </td>\n",
    "        <td>\n",
    "            <h2 style=\"color:#00bfff;\">This code is a live resource - keep an eye out for my updates</h2>\n",
    "            <span style=\"color:#00bfff;\">I push updates regularly. As people ask questions or have problems, I add more examples and improve explanations. As a result, the code below might not be identical to the videos, as I've added more steps and better comments. Consider this like an interactive book that accompanies the lectures.<br/><br/>\n",
    "            I try to send emails regularly with important updates related to the course. You can find this in the 'Announcements' section of Udemy in the left sidebar. You can also choose to receive my emails via your Notification Settings in Udemy. I'm respectful of your inbox and always try to add value with my emails!\n",
    "            </span>\n",
    "        </td>\n",
    "    </tr>\n",
    "</table>"
   ]
  },
  {
   "cell_type": "markdown",
   "metadata": {},
   "source": [
    "### And please do remember to contact me if I can help\n",
    "\n",
    "And I love to connect: https://www.linkedin.com/in/eddonner/\n",
    "\n",
    "\n",
    "### New to Notebooks like this one? Head over to the guides folder!\n",
    "\n",
    "Just to check you've already added the Python and Jupyter extensions to Cursor, if not already installed:\n",
    "- Open extensions (View >> extensions)\n",
    "- Search for python, and when the results show, click on the ms-python one, and Install it if not already installed\n",
    "- Search for jupyter, and when the results show, click on the Microsoft one, and Install it if not already installed  \n",
    "Then View >> Explorer to bring back the File Explorer.\n",
    "\n",
    "And then:\n",
    "1. Click where it says \"Select Kernel\" near the top right, and select the option called `.venv (Python 3.12.9)` or similar, which should be the first choice or the most prominent choice. You may need to choose \"Python Environments\" first.\n",
    "2. Click in each \"cell\" below, starting with the cell immediately below this text, and press Shift+Enter to run\n",
    "3. Enjoy!\n",
    "\n",
    "After you click \"Select Kernel\", if there is no option like `.venv (Python 3.12.9)` then please do the following:  \n",
    "1. On Mac: From the Cursor menu, choose Settings >> VS Code Settings (NOTE: be sure to select `VSCode Settings` not `Cursor Settings`);  \n",
    "On Windows PC: From the File menu, choose Preferences >> VS Code Settings(NOTE: be sure to select `VSCode Settings` not `Cursor Settings`)  \n",
    "2. In the Settings search bar, type \"venv\"  \n",
    "3. In the field \"Path to folder with a list of Virtual Environments\" put the path to the project root, like C:\\Users\\username\\projects\\agents (on a Windows PC) or /Users/username/projects/agents (on Mac or Linux).  \n",
    "And then try again.\n",
    "\n",
    "Having problems with missing Python versions in that list? Have you ever used Anaconda before? It might be interferring. Quit Cursor, bring up a new command line, and make sure that your Anaconda environment is deactivated:    \n",
    "`conda deactivate`  \n",
    "And if you still have any problems with conda and python versions, it's possible that you will need to run this too:  \n",
    "`conda config --set auto_activate_base false`  \n",
    "and then from within the Agents directory, you should be able to run `uv python list` and see the Python 3.12 version."
   ]
  },
  {
   "cell_type": "code",
   "execution_count": 1,
   "metadata": {},
   "outputs": [],
   "source": [
    "# First let's do an import. If you get an Import Error, double check that your Kernel is correct..\n",
    "\n",
    "from dotenv import load_dotenv\n"
   ]
  },
  {
   "cell_type": "code",
   "execution_count": 2,
   "metadata": {},
   "outputs": [
    {
     "data": {
      "text/plain": [
       "True"
      ]
     },
     "execution_count": 2,
     "metadata": {},
     "output_type": "execute_result"
    }
   ],
   "source": [
    "# Next it's time to load the API keys into environment variables\n",
    "# If this returns false, see the next cell!\n",
    "\n",
    "load_dotenv(override=True)"
   ]
  },
  {
   "cell_type": "markdown",
   "metadata": {},
   "source": [
    "### Wait, did that just output `False`??\n",
    "\n",
    "If so, the most common reason is that you didn't save your `.env` file after adding the key! Be sure to have saved.\n",
    "\n",
    "Also, make sure the `.env` file is named precisely `.env` and is in the project root directory (`agents`)\n",
    "\n",
    "By the way, your `.env` file should have a stop symbol next to it in Cursor on the left, and that's actually a good thing: that's Cursor saying to you, \"hey, I realize this is a file filled with secret information, and I'm not going to send it to an external AI to suggest changes, because your keys should not be shown to anyone else.\""
   ]
  },
  {
   "cell_type": "markdown",
   "metadata": {},
   "source": [
    "<table style=\"margin: 0; text-align: left; width:100%\">\n",
    "    <tr>\n",
    "        <td style=\"width: 150px; height: 150px; vertical-align: middle;\">\n",
    "            <img src=\"../assets/stop.png\" width=\"150\" height=\"150\" style=\"display: block;\" />\n",
    "        </td>\n",
    "        <td>\n",
    "            <h2 style=\"color:#ff7800;\">Final reminders</h2>\n",
    "            <span style=\"color:#ff7800;\">1. If you're not confident about Environment Variables or Web Endpoints / APIs, please read Topics 3 and 5 in this <a href=\"../guides/04_technical_foundations.ipynb\">technical foundations guide</a>.<br/>\n",
    "            2. If you want to use AIs other than OpenAI, like Gemini, DeepSeek or Ollama (free), please see the first section in this <a href=\"../guides/09_ai_apis_and_ollama.ipynb\">AI APIs guide</a>.<br/>\n",
    "            3. If you ever get a Name Error in Python, you can always fix it immediately; see the last section of this <a href=\"../guides/06_python_foundations.ipynb\">Python Foundations guide</a> and follow both tutorials and exercises.<br/>\n",
    "            </span>\n",
    "        </td>\n",
    "    </tr>\n",
    "</table>"
   ]
  },
  {
   "cell_type": "code",
   "execution_count": 3,
   "metadata": {},
   "outputs": [
    {
     "name": "stdout",
     "output_type": "stream",
     "text": [
      "OpenAI API Key not set - please head to the troubleshooting guide in the setup folder\n"
     ]
    }
   ],
   "source": [
    "# Check the key - if you're not using OpenAI, check whichever key you're using! Ollama doesn't need a key.\n",
    "\n",
    "import os\n",
    "openai_api_key = os.getenv('OPENAI_API_KEY')\n",
    "azure_key = os.getenv('AZURE_OPENAI_API_KEY')\n",
    "api_version = os.getenv('AZURE_OPENAI_API_VERSION')\n",
    "endpoint = os.getenv('AZURE_OPENAI_ENDPOINT')\n",
    "deployment = os.getenv('AZURE_OPENAI_DEPLOYMENT')\n",
    "\n",
    "if openai_api_key:\n",
    "    print(f\"OpenAI API Key exists and begins {openai_api_key[:8]}\")\n",
    "else:\n",
    "    print(\"OpenAI API Key not set - please head to the troubleshooting guide in the setup folder\")\n",
    "    \n"
   ]
  },
  {
   "cell_type": "code",
   "execution_count": 4,
   "metadata": {},
   "outputs": [],
   "source": [
    "# And now - the all important import statement\n",
    "# If you get an import error - head over to troubleshooting in the Setup folder\n",
    "# Even for other LLM providers like Gemini, you still use this OpenAI import - see Guide 9 for why\n",
    "\n",
    "from openai import OpenAI\n",
    "from openai import AzureOpenAI"
   ]
  },
  {
   "cell_type": "code",
   "execution_count": 5,
   "metadata": {},
   "outputs": [],
   "source": [
    "# And now we'll create an instance of the OpenAI class\n",
    "# If you're not sure what it means to create an instance of a class - head over to the guides folder (guide 6)!\n",
    "# If you get a NameError - head over to the guides folder (guide 6)to learn about NameErrors - always instantly fixable\n",
    "# If you're not using OpenAI, you just need to slightly modify this - precise instructions are in the AI APIs guide (guide 9)\n",
    "\n",
    "client = AzureOpenAI(\n",
    "    api_version=api_version,\n",
    "    azure_endpoint=endpoint,\n",
    "    api_key=openai_api_key,\n",
    ")"
   ]
  },
  {
   "cell_type": "code",
   "execution_count": 6,
   "metadata": {},
   "outputs": [],
   "source": [
    "# Create a list of messages in the familiar OpenAI format\n",
    "\n",
    "messages = [{\"role\": \"user\", \"content\": \"What is 2+2?\"}]"
   ]
  },
  {
   "cell_type": "code",
   "execution_count": 7,
   "metadata": {},
   "outputs": [
    {
     "name": "stdout",
     "output_type": "stream",
     "text": [
      "2+2 equals 4.\n"
     ]
    }
   ],
   "source": [
    "# And now call it! Any problems, head to the troubleshooting guide\n",
    "# This uses GPT 4.1 nano, the incredibly cheap model\n",
    "# The APIs guide (guide 9) has exact instructions for using even cheaper or free alternatives to OpenAI\n",
    "# If you get a NameError, head to the guides folder (guide 6) to learn about NameErrors - always instantly fixable\n",
    "\n",
    "response = client.chat.completions.create(\n",
    "    model=deployment,\n",
    "    messages=messages\n",
    ")\n",
    "\n",
    "print(response.choices[0].message.content)\n"
   ]
  },
  {
   "cell_type": "code",
   "execution_count": 8,
   "metadata": {},
   "outputs": [],
   "source": [
    "# And now - let's ask for a question:\n",
    "\n",
    "question = \"Please propose a hard, challenging question to assess someone's IQ. Respond only with the question.\"\n",
    "messages = [{\"role\": \"user\", \"content\": question}]\n"
   ]
  },
  {
   "cell_type": "code",
   "execution_count": 11,
   "metadata": {},
   "outputs": [
    {
     "name": "stdout",
     "output_type": "stream",
     "text": [
      "If you have a 5x5 grid, and you place the numbers 1 through 25 within the grid such that each number is used exactly once, what's the minimum number of swaps required to arrange the numbers into sequential order from left to right and top to bottom?\n"
     ]
    }
   ],
   "source": [
    "# ask it - this uses GPT 4.1 mini, still cheap but more powerful than nano\n",
    "\n",
    "response = client.chat.completions.create(\n",
    "    model=deployment,\n",
    "    messages=messages\n",
    ")\n",
    "\n",
    "question = response.choices[0].message.content\n",
    "\n",
    "print(question)\n"
   ]
  },
  {
   "cell_type": "code",
   "execution_count": 12,
   "metadata": {},
   "outputs": [],
   "source": [
    "# form a new messages list\n",
    "messages = [{\"role\": \"user\", \"content\": question}]\n"
   ]
  },
  {
   "cell_type": "code",
   "execution_count": 14,
   "metadata": {},
   "outputs": [
    {
     "name": "stdout",
     "output_type": "stream",
     "text": [
      "To arrange the numbers 1 through 25 in a 5x5 grid such that they are in sequential order from left to right and top to bottom, let’s consider the grid positions as follows:\n",
      "\n",
      "```\n",
      " 1  2  3  4  5\n",
      " 6  7  8  9 10\n",
      "11 12 13 14 15\n",
      "16 17 18 19 20\n",
      "21 22 23 24 25\n",
      "```\n",
      "\n",
      "Suppose we start with the numbers in a random order and want to sort them into the desired sequence using swaps. A swap is defined as switching two elements in the grid.\n",
      "\n",
      "The minimum number of swaps required to sort an array (or a sequence) can be determined using the concept of cycle decomposition in permutation. Here’s a simplified explanation:\n",
      "\n",
      "1. View the current arrangement of numbers as a permutation of the array [1, 2, 3, ..., 25].\n",
      "2. Decompose this permutation into disjoint cycles.\n",
      "3. Every cycle of length \\( k \\) can be sorted using \\( k - 1 \\) swaps.\n",
      "4. Sum the necessary swaps for all cycles to find the total minimum number of swaps required.\n",
      "\n",
      "In mathematical terms, if you have \\( c \\) cycles from your permutation decomposition, where each cycle \\( i \\) has length \\( k_i \\), the minimum number of swaps required is:\n",
      "\n",
      "\\[ \\sum_{i=1}^{c} (k_i - 1) \\]\n",
      "\n",
      "Let's use an example. Consider the permutation of the 5x5 grid:\n",
      "\n",
      "```\n",
      " 3  5  7  9  1\n",
      "11 13 15 17 12\n",
      "20 18 16 14 10\n",
      "25 21 19 22  4\n",
      "23  6 24  8  2\n",
      "```\n",
      "\n",
      "We can visualize this as a permutation of the numbers [1, 2, 3, ..., 25]:\n",
      "\n",
      "(Notice that the actual permutation cycles will depend on the specific arrangement.)\n",
      "\n",
      "To compute the number of swaps:\n",
      "\n",
      "1. Identify where each number is, influencing how far each number is from its correct position.\n",
      "2. Break down the permutation into cycles. Each cycle contains elements that can be permuted among themselves to reach the sorted order.\n",
      "\n",
      "   Suppose we find cycles like:\n",
      "   \n",
      "   - (1  3  7 18)\n",
      "   - (2 5)\n",
      "   - (4 9 14 22 8)\n",
      "   - Etc.\n",
      "\n",
      "3. Calculate \\( k_i - 1 \\) for each cycle.\n",
      "\n",
      "   - For (1  3  7 18) with 4 elements: \\(4 - 1 = 3\\)\n",
      "   - For (2 5) with 2 elements: \\(2 - 1 = 1\\)\n",
      "   - For (4 9 14 22 8) with 5 elements: \\(5 - 1 = 4\\)\n",
      "\n",
      "   Continue this for all cycles.\n",
      "\n",
      "In general, you would execute this for the exact permutation sequence you have. This approach, while simplified here, underlines the method to systematically minimize swaps by tackling cycles in the permutation. A more algorithmic implementation or calculation tool would help automate counting and performing these swaps for large or complex permutations.\n",
      "\n",
      "For a completely random grid, exact numbers depend, but on average, permutations of length \\(n\\) typically resolve efficiently within the discussed cycle breakdown approach.\n"
     ]
    }
   ],
   "source": [
    "# Ask it again\n",
    "\n",
    "response = client.chat.completions.create(\n",
    "    model=deployment,\n",
    "    messages=messages\n",
    ")\n",
    "\n",
    "answer = response.choices[0].message.content\n",
    "print(answer)\n"
   ]
  },
  {
   "cell_type": "code",
   "execution_count": 15,
   "metadata": {},
   "outputs": [
    {
     "data": {
      "text/markdown": [
       "To arrange the numbers 1 through 25 in a 5x5 grid such that they are in sequential order from left to right and top to bottom, let’s consider the grid positions as follows:\n",
       "\n",
       "```\n",
       " 1  2  3  4  5\n",
       " 6  7  8  9 10\n",
       "11 12 13 14 15\n",
       "16 17 18 19 20\n",
       "21 22 23 24 25\n",
       "```\n",
       "\n",
       "Suppose we start with the numbers in a random order and want to sort them into the desired sequence using swaps. A swap is defined as switching two elements in the grid.\n",
       "\n",
       "The minimum number of swaps required to sort an array (or a sequence) can be determined using the concept of cycle decomposition in permutation. Here’s a simplified explanation:\n",
       "\n",
       "1. View the current arrangement of numbers as a permutation of the array [1, 2, 3, ..., 25].\n",
       "2. Decompose this permutation into disjoint cycles.\n",
       "3. Every cycle of length \\( k \\) can be sorted using \\( k - 1 \\) swaps.\n",
       "4. Sum the necessary swaps for all cycles to find the total minimum number of swaps required.\n",
       "\n",
       "In mathematical terms, if you have \\( c \\) cycles from your permutation decomposition, where each cycle \\( i \\) has length \\( k_i \\), the minimum number of swaps required is:\n",
       "\n",
       "\\[ \\sum_{i=1}^{c} (k_i - 1) \\]\n",
       "\n",
       "Let's use an example. Consider the permutation of the 5x5 grid:\n",
       "\n",
       "```\n",
       " 3  5  7  9  1\n",
       "11 13 15 17 12\n",
       "20 18 16 14 10\n",
       "25 21 19 22  4\n",
       "23  6 24  8  2\n",
       "```\n",
       "\n",
       "We can visualize this as a permutation of the numbers [1, 2, 3, ..., 25]:\n",
       "\n",
       "(Notice that the actual permutation cycles will depend on the specific arrangement.)\n",
       "\n",
       "To compute the number of swaps:\n",
       "\n",
       "1. Identify where each number is, influencing how far each number is from its correct position.\n",
       "2. Break down the permutation into cycles. Each cycle contains elements that can be permuted among themselves to reach the sorted order.\n",
       "\n",
       "   Suppose we find cycles like:\n",
       "   \n",
       "   - (1  3  7 18)\n",
       "   - (2 5)\n",
       "   - (4 9 14 22 8)\n",
       "   - Etc.\n",
       "\n",
       "3. Calculate \\( k_i - 1 \\) for each cycle.\n",
       "\n",
       "   - For (1  3  7 18) with 4 elements: \\(4 - 1 = 3\\)\n",
       "   - For (2 5) with 2 elements: \\(2 - 1 = 1\\)\n",
       "   - For (4 9 14 22 8) with 5 elements: \\(5 - 1 = 4\\)\n",
       "\n",
       "   Continue this for all cycles.\n",
       "\n",
       "In general, you would execute this for the exact permutation sequence you have. This approach, while simplified here, underlines the method to systematically minimize swaps by tackling cycles in the permutation. A more algorithmic implementation or calculation tool would help automate counting and performing these swaps for large or complex permutations.\n",
       "\n",
       "For a completely random grid, exact numbers depend, but on average, permutations of length \\(n\\) typically resolve efficiently within the discussed cycle breakdown approach."
      ],
      "text/plain": [
       "<IPython.core.display.Markdown object>"
      ]
     },
     "metadata": {},
     "output_type": "display_data"
    }
   ],
   "source": [
    "from IPython.display import Markdown, display\n",
    "\n",
    "display(Markdown(answer))\n",
    "\n"
   ]
  },
  {
   "cell_type": "markdown",
   "metadata": {},
   "source": [
    "# Congratulations!\n",
    "\n",
    "That was a small, simple step in the direction of Agentic AI, with your new environment!\n",
    "\n",
    "Next time things get more interesting..."
   ]
  },
  {
   "cell_type": "markdown",
   "metadata": {},
   "source": [
    "<table style=\"margin: 0; text-align: left; width:100%\">\n",
    "    <tr>\n",
    "        <td style=\"width: 150px; height: 150px; vertical-align: middle;\">\n",
    "            <img src=\"../assets/exercise.png\" width=\"150\" height=\"150\" style=\"display: block;\" />\n",
    "        </td>\n",
    "        <td>\n",
    "            <h2 style=\"color:#ff7800;\">Exercise</h2>\n",
    "            <span style=\"color:#ff7800;\">Now try this commercial application:<br/>\n",
    "            First ask the LLM to pick a business area that might be worth exploring for an Agentic AI opportunity.<br/>\n",
    "            Then ask the LLM to present a pain-point in that industry - something challenging that might be ripe for an Agentic solution.<br/>\n",
    "            Finally have 3 third LLM call propose the Agentic AI solution. <br/>\n",
    "            We will cover this at up-coming labs, so don't worry if you're unsure.. just give it a try!\n",
    "            </span>\n",
    "        </td>\n",
    "    </tr>\n",
    "</table>"
   ]
  },
  {
   "cell_type": "code",
   "execution_count": 21,
   "metadata": {},
   "outputs": [],
   "source": [
    "# First create the messages:\n",
    "\n",
    "messages = [{\"role\": \"user\", \"content\": \"Propose a business idea that might be worth exploring for an Agentic AI opportunity. Answer with the description of the idea only.\"}]\n",
    "\n",
    "# Then make the first call:\n",
    "\n",
    "response = client.chat.completions.create(model=deployment, messages=messages)\n",
    "\n",
    "# Then read the business idea:\n",
    "\n",
    "business_idea = response.choices[0].message.content\n",
    "\n",
    "# And repeat! In the next message, include the business idea within the message\n",
    "\n",
    "pain_point = client.chat.completions.create(model=deployment, messages=[\n",
    "    {\"role\": \"user\", \"content\": f\"Please list one major pain point of the following business idea: {business_idea}. Answer with the pain point only.\"}\n",
    "]).choices[0].message.content\n",
    "\n",
    "solution = client.chat.completions.create(model=deployment, messages=[\n",
    "    {\"role\": \"user\", \"content\": f\"Please propose a solution to the following pain point: {pain_point} for the following business idea: {business_idea}. Answer with the solution only.\"}\n",
    "]).choices[0].message.content"
   ]
  },
  {
   "cell_type": "code",
   "execution_count": 22,
   "metadata": {},
   "outputs": [
    {
     "name": "stdout",
     "output_type": "stream",
     "text": [
      "Business idea:\n"
     ]
    },
    {
     "data": {
      "text/markdown": [
       "An innovative business idea worth exploring for an Agentic AI opportunity is the development of a \"Personalized Virtual Health Coach.\" This AI-powered platform leverages advanced machine learning algorithms and physiological data from wearable devices to provide users with real-time, customized health recommendations and coaching. The virtual coach can offer personalized exercise routines, nutrition advice, mental wellness tips, and lifestyle adjustments based on the individual's unique health metrics and goals. Additionally, it can track progress, send reminders, and adjust plans dynamically to optimize health outcomes, making it a highly adaptive and proactive tool for enhancing overall well-being."
      ],
      "text/plain": [
       "<IPython.core.display.Markdown object>"
      ]
     },
     "metadata": {},
     "output_type": "display_data"
    },
    {
     "name": "stdout",
     "output_type": "stream",
     "text": [
      "\n",
      "Pain point:\n"
     ]
    },
    {
     "data": {
      "text/markdown": [
       "Data privacy and security concerns."
      ],
      "text/plain": [
       "<IPython.core.display.Markdown object>"
      ]
     },
     "metadata": {},
     "output_type": "display_data"
    },
    {
     "name": "stdout",
     "output_type": "stream",
     "text": [
      "\n",
      "Solution:\n"
     ]
    },
    {
     "data": {
      "text/markdown": [
       "To address data privacy and security concerns for the \"Personalized Virtual Health Coach\": \n",
       "\n",
       "1. Implement end-to-end encryption for all data transmitted between users' devices and the platform.\n",
       "2. Utilize secure, encrypted storage solutions for any collected data, ensuring that sensitive information is protected both in transit and at rest.\n",
       "3. Incorporate anonymization and pseudonymization techniques to protect user identities.\n",
       "4. Regularly conduct security audits and vulnerability assessments to identify and address potential security threats.\n",
       "5. Adhere to strict data privacy regulations (such as GDPR, CCPA, HIPAA) and ensure transparency by clearly communicating data usage policies to users.\n",
       "6. Provide users with control over their data, including options to access, modify, and delete their personal information.\n",
       "7. Employ multi-factor authentication (MFA) and other robust user authentication methods to prevent unauthorized access.\n",
       "8. Create a robust incident response plan to quickly address any data breaches or security incidents.\n",
       "\n",
       "These measures will help build trust and protect user data, ensuring that privacy and security concerns are adequately addressed."
      ],
      "text/plain": [
       "<IPython.core.display.Markdown object>"
      ]
     },
     "metadata": {},
     "output_type": "display_data"
    }
   ],
   "source": [
    "print(\"Business idea:\")\n",
    "display(Markdown(business_idea))\n",
    "print(\"\")\n",
    "\n",
    "print(\"Pain point:\")\n",
    "display(Markdown(pain_point))\n",
    "print(\"\")\n",
    "\n",
    "print(\"Solution:\")\n",
    "display(Markdown(solution))"
   ]
  },
  {
   "cell_type": "code",
   "execution_count": null,
   "metadata": {},
   "outputs": [],
   "source": []
  }
 ],
 "metadata": {
  "kernelspec": {
   "display_name": ".venv",
   "language": "python",
   "name": "python3"
  },
  "language_info": {
   "codemirror_mode": {
    "name": "ipython",
    "version": 3
   },
   "file_extension": ".py",
   "mimetype": "text/x-python",
   "name": "python",
   "nbconvert_exporter": "python",
   "pygments_lexer": "ipython3",
   "version": "3.12.9"
  }
 },
 "nbformat": 4,
 "nbformat_minor": 2
}
