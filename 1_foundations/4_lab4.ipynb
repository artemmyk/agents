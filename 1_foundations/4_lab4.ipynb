{
 "cells": [
  {
   "cell_type": "markdown",
   "metadata": {},
   "source": [
    "## The first big project - Professionally You!\n",
    "\n",
    "### And, Tool use.\n",
    "\n",
    "### But first: introducing Pushover\n",
    "\n",
    "Pushover is a nifty tool for sending Push Notifications to your phone.\n",
    "\n",
    "It's super easy to set up and install!\n",
    "\n",
    "Simply visit https://pushover.net/ and click 'Login or Signup' on the top right to sign up for a free account, and create your API keys.\n",
    "\n",
    "Once you've signed up, on the home screen, click \"Create an Application/API Token\", and give it any name (like Agents) and click Create Application.\n",
    "\n",
    "Then add 2 lines to your `.env` file:\n",
    "\n",
    "PUSHOVER_USER=_put the key that's on the top right of your Pushover home screen and probably starts with a u_  \n",
    "PUSHOVER_TOKEN=_put the key when you click into your new application called Agents (or whatever) and probably starts with an a_\n",
    "\n",
    "Remember to save your `.env` file, and run `load_dotenv(override=True)` after saving, to set your environment variables.\n",
    "\n",
    "Finally, click \"Add Phone, Tablet or Desktop\" to install on your phone."
   ]
  },
  {
   "cell_type": "code",
   "execution_count": 2,
   "metadata": {},
   "outputs": [],
   "source": [
    "# imports\n",
    "\n",
    "from dotenv import load_dotenv\n",
    "from openai import OpenAI, AzureOpenAI\n",
    "import json\n",
    "import os\n",
    "import requests\n",
    "from pypdf import PdfReader\n",
    "import gradio as gr"
   ]
  },
  {
   "cell_type": "code",
   "execution_count": 3,
   "metadata": {},
   "outputs": [],
   "source": [
    "# The usual start\n",
    "\n",
    "load_dotenv(override=True)\n",
    "\n",
    "endpoint = os.getenv('AZURE_OPENAI_ENDPOINT')\n",
    "azure_key = os.getenv('AZURE_OPENAI_API_KEY')\n",
    "deployment_chat = os.getenv('AZURE_OPENAI_DEPLOYMENT_CHAT')\n",
    "api_version_chat = os.getenv('AZURE_OPENAI_API_VERSION_CHAT')\n",
    "\n",
    "openai = AzureOpenAI(\n",
    "    api_version=api_version_chat,\n",
    "    azure_endpoint=endpoint,\n",
    "    api_key=azure_key,\n",
    ")"
   ]
  },
  {
   "cell_type": "code",
   "execution_count": 4,
   "metadata": {},
   "outputs": [
    {
     "name": "stdout",
     "output_type": "stream",
     "text": [
      "Pushover user found and starts with u\n",
      "Pushover token found and starts with a\n"
     ]
    }
   ],
   "source": [
    "# For pushover\n",
    "\n",
    "pushover_user = os.getenv(\"PUSHOVER_USER\")\n",
    "pushover_token = os.getenv(\"PUSHOVER_TOKEN\")\n",
    "pushover_url = \"https://api.pushover.net/1/messages.json\"\n",
    "\n",
    "if pushover_user:\n",
    "    print(f\"Pushover user found and starts with {pushover_user[0]}\")\n",
    "else:\n",
    "    print(\"Pushover user not found\")\n",
    "\n",
    "if pushover_token:\n",
    "    print(f\"Pushover token found and starts with {pushover_token[0]}\")\n",
    "else:\n",
    "    print(\"Pushover token not found\")"
   ]
  },
  {
   "cell_type": "code",
   "execution_count": 5,
   "metadata": {},
   "outputs": [],
   "source": [
    "def push(message):\n",
    "    print(f\"Push: {message}\")\n",
    "    payload = {\"user\": pushover_user, \"token\": pushover_token, \"message\": message}\n",
    "    requests.post(pushover_url, data=payload)"
   ]
  },
  {
   "cell_type": "code",
   "execution_count": 6,
   "metadata": {},
   "outputs": [
    {
     "name": "stdout",
     "output_type": "stream",
     "text": [
      "Push: HEY!!\n"
     ]
    }
   ],
   "source": [
    "push(\"HEY!!\")"
   ]
  },
  {
   "cell_type": "code",
   "execution_count": 7,
   "metadata": {},
   "outputs": [],
   "source": [
    "def record_user_details(email, name=\"Name not provided\", notes=\"not provided\"):\n",
    "    push(f\"Recording interest from {name} with email {email} and notes {notes}\")\n",
    "    return {\"recorded\": \"ok\"}"
   ]
  },
  {
   "cell_type": "code",
   "execution_count": 8,
   "metadata": {},
   "outputs": [],
   "source": [
    "def record_unknown_question(question):\n",
    "    push(f\"Recording question asked that I couldn't answer: {question}\")\n",
    "    return {\"recorded\": \"ok\"}"
   ]
  },
  {
   "cell_type": "code",
   "execution_count": 9,
   "metadata": {},
   "outputs": [],
   "source": [
    "record_user_details_json = {\n",
    "    \"name\": \"record_user_details\",\n",
    "    \"description\": \"Use this tool to record that a user is interested in being in touch and provided an email address\",\n",
    "    \"parameters\": {\n",
    "        \"type\": \"object\",\n",
    "        \"properties\": {\n",
    "            \"email\": {\n",
    "                \"type\": \"string\",\n",
    "                \"description\": \"The email address of this user\"\n",
    "            },\n",
    "            \"name\": {\n",
    "                \"type\": \"string\",\n",
    "                \"description\": \"The user's name, if they provided it\"\n",
    "            }\n",
    "            ,\n",
    "            \"notes\": {\n",
    "                \"type\": \"string\",\n",
    "                \"description\": \"Any additional information about the conversation that's worth recording to give context\"\n",
    "            }\n",
    "        },\n",
    "        \"required\": [\"email\"],\n",
    "        \"additionalProperties\": False\n",
    "    }\n",
    "}"
   ]
  },
  {
   "cell_type": "code",
   "execution_count": 10,
   "metadata": {},
   "outputs": [],
   "source": [
    "record_unknown_question_json = {\n",
    "    \"name\": \"record_unknown_question\",\n",
    "    \"description\": \"Always use this tool to record any question that couldn't be answered as you didn't know the answer\",\n",
    "    \"parameters\": {\n",
    "        \"type\": \"object\",\n",
    "        \"properties\": {\n",
    "            \"question\": {\n",
    "                \"type\": \"string\",\n",
    "                \"description\": \"The question that couldn't be answered\"\n",
    "            },\n",
    "        },\n",
    "        \"required\": [\"question\"],\n",
    "        \"additionalProperties\": False\n",
    "    }\n",
    "}"
   ]
  },
  {
   "cell_type": "code",
   "execution_count": 11,
   "metadata": {},
   "outputs": [],
   "source": [
    "tools = [{\"type\": \"function\", \"function\": record_user_details_json},\n",
    "        {\"type\": \"function\", \"function\": record_unknown_question_json}]"
   ]
  },
  {
   "cell_type": "code",
   "execution_count": 12,
   "metadata": {},
   "outputs": [
    {
     "data": {
      "text/plain": [
       "[{'type': 'function',\n",
       "  'function': {'name': 'record_user_details',\n",
       "   'description': 'Use this tool to record that a user is interested in being in touch and provided an email address',\n",
       "   'parameters': {'type': 'object',\n",
       "    'properties': {'email': {'type': 'string',\n",
       "      'description': 'The email address of this user'},\n",
       "     'name': {'type': 'string',\n",
       "      'description': \"The user's name, if they provided it\"},\n",
       "     'notes': {'type': 'string',\n",
       "      'description': \"Any additional information about the conversation that's worth recording to give context\"}},\n",
       "    'required': ['email'],\n",
       "    'additionalProperties': False}}},\n",
       " {'type': 'function',\n",
       "  'function': {'name': 'record_unknown_question',\n",
       "   'description': \"Always use this tool to record any question that couldn't be answered as you didn't know the answer\",\n",
       "   'parameters': {'type': 'object',\n",
       "    'properties': {'question': {'type': 'string',\n",
       "      'description': \"The question that couldn't be answered\"}},\n",
       "    'required': ['question'],\n",
       "    'additionalProperties': False}}}]"
      ]
     },
     "execution_count": 12,
     "metadata": {},
     "output_type": "execute_result"
    }
   ],
   "source": [
    "tools"
   ]
  },
  {
   "cell_type": "code",
   "execution_count": 13,
   "metadata": {},
   "outputs": [],
   "source": [
    "# This function can take a list of tool calls, and run them. This is the IF statement!!\n",
    "\n",
    "def handle_tool_calls(tool_calls):\n",
    "    results = []\n",
    "    for tool_call in tool_calls:\n",
    "        tool_name = tool_call.function.name\n",
    "        arguments = json.loads(tool_call.function.arguments)\n",
    "        print(f\"Tool called: {tool_name}\", flush=True)\n",
    "\n",
    "        # THE BIG IF STATEMENT!!!\n",
    "\n",
    "        if tool_name == \"record_user_details\":\n",
    "            result = record_user_details(**arguments)\n",
    "        elif tool_name == \"record_unknown_question\":\n",
    "            result = record_unknown_question(**arguments)\n",
    "\n",
    "        results.append({\"role\": \"tool\",\"content\": json.dumps(result),\"tool_call_id\": tool_call.id})\n",
    "    return results"
   ]
  },
  {
   "cell_type": "code",
   "execution_count": 14,
   "metadata": {},
   "outputs": [
    {
     "name": "stdout",
     "output_type": "stream",
     "text": [
      "Push: Recording question asked that I couldn't answer: this is a really hard question\n"
     ]
    },
    {
     "data": {
      "text/plain": [
       "{'recorded': 'ok'}"
      ]
     },
     "execution_count": 14,
     "metadata": {},
     "output_type": "execute_result"
    }
   ],
   "source": [
    "globals()[\"record_unknown_question\"](\"this is a really hard question\")"
   ]
  },
  {
   "cell_type": "code",
   "execution_count": 15,
   "metadata": {},
   "outputs": [],
   "source": [
    "# This is a more elegant way that avoids the IF statement.\n",
    "\n",
    "def handle_tool_calls(tool_calls):\n",
    "    results = []\n",
    "    for tool_call in tool_calls:\n",
    "        tool_name = tool_call.function.name\n",
    "        arguments = json.loads(tool_call.function.arguments)\n",
    "        print(f\"Tool called: {tool_name}\", flush=True)\n",
    "        tool = globals().get(tool_name)\n",
    "        result = tool(**arguments) if tool else {}\n",
    "        results.append({\"role\": \"tool\",\"content\": json.dumps(result),\"tool_call_id\": tool_call.id})\n",
    "    return results"
   ]
  },
  {
   "cell_type": "code",
   "execution_count": 17,
   "metadata": {},
   "outputs": [],
   "source": [
    "reader = PdfReader(\"me/Amazon, 2025 February 9.pdf\")\n",
    "linkedin = \"\"\n",
    "for page in reader.pages:\n",
    "    text = page.extract_text()\n",
    "    if text:\n",
    "        linkedin += text\n",
    "\n",
    "with open(\"me/summary.txt\", \"r\", encoding=\"utf-8\") as f:\n",
    "    summary = f.read()\n",
    "\n",
    "name = \"Artem Mykytyshyn\""
   ]
  },
  {
   "cell_type": "code",
   "execution_count": 18,
   "metadata": {},
   "outputs": [],
   "source": [
    "system_prompt = f\"You are acting as {name}. You are answering questions on {name}'s website, \\\n",
    "particularly questions related to {name}'s career, background, skills and experience. \\\n",
    "Your responsibility is to represent {name} for interactions on the website as faithfully as possible. \\\n",
    "You are given a summary of {name}'s background and a resume which you can use to answer questions. \\\n",
    "Be professional and engaging, as if talking to a potential client or future employer who came across the website. \\\n",
    "If you don't know the answer to any question, use your record_unknown_question tool to record the question that you couldn't answer, even if it's about something trivial or unrelated to career. \\\n",
    "If the user is engaging in discussion, try to steer them towards getting in touch via email; ask for their email and record it using your record_user_details tool. \"\n",
    "\n",
    "system_prompt += f\"\\n\\n## Summary:\\n{summary}\\n\\n## Resume:\\n{linkedin}\\n\\n\"\n",
    "system_prompt += f\"With this context, please chat with the user, always staying in character as {name}.\"\n"
   ]
  },
  {
   "cell_type": "code",
   "execution_count": null,
   "metadata": {},
   "outputs": [],
   "source": [
    "def chat(message, history):\n",
    "    messages = [{\"role\": \"system\", \"content\": system_prompt}] + history + [{\"role\": \"user\", \"content\": message}]\n",
    "    done = False\n",
    "    while not done:\n",
    "\n",
    "        # This is the call to the LLM - see that we pass in the tools json\n",
    "\n",
    "        response = openai.chat.completions.create(model=\"gpt-4o-mini\", messages=messages, tools=tools)\n",
    "\n",
    "        finish_reason = response.choices[0].finish_reason\n",
    "        \n",
    "        # If the LLM wants to call a tool, we do that!\n",
    "         \n",
    "        if finish_reason==\"tool_calls\":\n",
    "            message = response.choices[0].message\n",
    "            tool_calls = message.tool_calls\n",
    "            results = handle_tool_calls(tool_calls)\n",
    "            messages.append(message)\n",
    "            messages.extend(results)\n",
    "        else:\n",
    "            done = True\n",
    "    return response.choices[0].message.content"
   ]
  },
  {
   "cell_type": "code",
   "execution_count": 21,
   "metadata": {},
   "outputs": [
    {
     "name": "stdout",
     "output_type": "stream",
     "text": [
      "* Running on local URL:  http://127.0.0.1:7860\n",
      "* To create a public link, set `share=True` in `launch()`.\n"
     ]
    },
    {
     "data": {
      "text/html": [
       "<div><iframe src=\"http://127.0.0.1:7860/\" width=\"100%\" height=\"500\" allow=\"autoplay; camera; microphone; clipboard-read; clipboard-write;\" frameborder=\"0\" allowfullscreen></iframe></div>"
      ],
      "text/plain": [
       "<IPython.core.display.HTML object>"
      ]
     },
     "metadata": {},
     "output_type": "display_data"
    },
    {
     "data": {
      "text/plain": []
     },
     "execution_count": 21,
     "metadata": {},
     "output_type": "execute_result"
    },
    {
     "name": "stdout",
     "output_type": "stream",
     "text": [
      "Tool called: record_unknown_question\n",
      "Push: Recording question asked that I couldn't answer: What languages does Artem Mykytyshyn speak?\n",
      "[{'role': 'system', 'content': \"You are acting as Artem Mykytyshyn. You are answering questions on Artem Mykytyshyn's website, particularly questions related to Artem Mykytyshyn's career, background, skills and experience. Your responsibility is to represent Artem Mykytyshyn for interactions on the website as faithfully as possible. You are given a summary of Artem Mykytyshyn's background and a resume which you can use to answer questions. Be professional and engaging, as if talking to a potential client or future employer who came across the website. If you don't know the answer to any question, use your record_unknown_question tool to record the question that you couldn't answer, even if it's about something trivial or unrelated to career. If the user is engaging in discussion, try to steer them towards getting in touch via email; ask for their email and record it using your record_user_details tool. \\n\\n## Summary:\\nMy name is Artem Mykytyshyn. I'm a software engineer and AI specialist.\\n\\n## Resume:\\nARTEM  MYKYTYSHYN  Toronto,  ON  |  +1  (437)  239-6115  |  artem.mykytyshyn@gmail.com |  linkedin.com/in/artem-mykytyshyn Authorized  to  work  in  Canada;  no  visa  sponsorship  required   \\nWORK  EXPERIENCE \\n \\n \\nWorkspace  Safety  and  Insurance  Board  (WSIB) Sep  2024  -  Present  Software  Developer  Toronto,  ON,  Canada ●  Building  an  AI-powered  document  simplification  tool  using  FastAPI/Python  and  React/JavaScript,  transforming  a  PoC  into  \\na\\n \\nsecure,\\n \\nproduction-ready\\n \\nproduct\\n \\nbased\\n \\non\\n \\nbusiness\\n \\nneeds.\\n ●  Developed  an  enterprise  request  intake  tool  from  the  ground  up  using  Spring  Boot/Java  (back  end)  and  React/JavaScript  \\n(front\\n \\nend),\\n \\nwith\\n \\nAzure\\n \\nSQL\\n \\nDatabase\\n \\nand\\n \\nRabbitMQ,\\n \\nserving\\n \\n500+\\n \\nunique\\n \\nusers\\n \\nand\\n \\nsupporting\\n \\n500+\\n \\nconcurrent\\n \\nsessions.\\n ●  Identified  and  fixed  an  issue  in  a  notification  microservice,  where  a  misconfigured  message  queue  caused  mass  emails  to  be  \\nsent\\n \\ncompany-wide\\n \\nafter\\n \\na\\n \\nservice\\n \\nrestart.\\n \\nPrevented\\n \\n200+\\n \\nunintended\\n \\nemails.\\n ●  Advocated  for  integrating  a  design  team  to  improve  UI/UX,  acting  as  the  bridge  between  developers,  designers,  and  the  \\ncommunications\\n \\nteam;\\n \\nimplemented\\n \\nfeedback\\n \\nto\\n \\nachieve\\n \\nWCAG\\n \\nLevel\\n \\nAA\\n \\naccessibility\\n \\ncompliance\\n \\nand\\n \\nenhance\\n \\nusability.\\n ●  Organized  14  UX  interviews,  6  UAT  sessions,  15+  demos,  and  2  training  sessions  to  improve  usability  and  adoption.   Workspace  Safety  and  Insurance  Board  (WSIB) May  2024  -  Aug  2024  Developer  Intern  Waterloo,  ON,  Canada ●  Contributed  to  the  initial  development  of  the  request  intake  tool,  gathering  requirements  from  10+  stakeholders,  designing  \\narchitecture,\\n \\nbuilding\\n \\nearly\\n \\nprototypes,\\n \\nand\\n \\ntesting\\n \\nintegrations\\n \\nwith\\n \\nOffice\\n \\n365,\\n \\nOutlook,\\n \\nand\\n \\nTeams.\\n ●  Proposed,  designed,  and  implemented  a  Python  library  to  automate  data  integrity  tests  using  Pandas,  replacing  a  2-day  \\nmanual\\n \\nprocess\\n \\nwith\\n \\na\\n \\n1-minute\\n \\nautomated\\n \\nsolution.\\n ●  Developed  scripts  to  migrate  100M+  records  from  an  on-prem  system  to  Azure  using  PySpark,  SQL,  Python,  and  R.   PROJECTS \\n \\nSearchAgent:  AI  Search  Plugin  for  Shopify  |  Python,  TypeScript,  Flask,  HTML,  Shopify  API Jun  2024  -  Aug  2024  ●  Built  a  Shopify  app  that  integrates  AI  search  into  existing  stores,  outperforming  competitors  in  search  relevance  and  accuracy.  ●  Developed  the  back  end  in  Flask/Python  and  the  front  end  in  TypeScript/HTML,  integrating  REST  and  GraphQL  APIs.   Verifiable  Digital  Diploma  Issuance  System  |  JavaScript,  Node.js,  Dart,  Flutter Jan  2024  -  May  2024  ●  Developed  a  verifiable  credential  issuer  API  using  Node.js/JavaScript,  ensuring  compliance  with  EBSI,  W3C,  OpenID  \\nConnect,\\n \\nand\\n \\neIDAS\\n \\nstandards.\\n ●  Build  a  front-end  demo  website  in  Flutter/Dart  to  present  the  digital  diploma  issuance  process.   Chatbot  for  Prospective  Students  |  Python,  Telegram  Bot  API,  MongoDB,  Heroku Jan  2022  -  Oct  2022  ●  Led  a  team  of  3  developers  to  build  and  deploy  a  Telegram  chatbot  with  information  for  prospective  students,  reaching  \\n1,000+\\n \\nusers\\n \\nin\\n \\nits\\n \\nfirst\\n \\nyear\\n \\nand\\n \\nreducing\\n \\nthe\\n \\nneed\\n \\nfor\\n \\nmanual\\n \\nresponses\\n \\nfrom\\n \\nstudent\\n \\nvolunteers.\\n ●  Implemented  a  virtual  waiting  line  in  the  chatbot,  used  by  300+  students  to  reserve  spots  for  document  submission  and  get  \\nreal-time\\n \\nnotifications\\n \\n–\\n \\ncutting\\n \\nwait\\n \\ntimes\\n \\nfrom\\n \\n~2\\n \\nhours\\n \\nto\\n \\na\\n \\nfew\\n \\nminutes.\\n ●  Selected  and  onboarded  2  new  developers,  handing  off  the  project  for  continued  development  and  maintenance.   EDUCATION \\n \\n \\nBachelor  of  Computer  Science  |  National  University  of  Kyiv-Mohyla  Academy  |  Kyiv,  Ukraine  Sep  2021  -  Jun  2025 GPA:  93.62/100.00;  Presidential  Scholarship,  awarded  to  the  top  270  students  nationwide   Non-Degree  Exchange  Program,  Computer  Science  |  University  of  Toronto  |  Toronto,  ON,  Canada  Jan  2023  -  Apr  2024 GPA:  3.82/4.0;  Temerty  Foundation  nominal  scholarship   SKILLS \\nTechnical  Knowledge:  Software  Engineering,  Back-end  Development,  Microservices,  Algorithms,  Data  Structures,  OOP,  \\nDesign\\n \\nPatterns,\\n \\nWeb\\n \\nDevelopment,\\n \\nSoftware\\n \\nTesting,\\n \\nDocumentation,\\n \\nMobile\\n \\nDevelopment,\\n \\nMachine\\n \\nLearning.\\n Languages  &  Frameworks :  Java,  Python,  Go,  Swift,  Dart,  JavaScript,  SQL,  HTML,  CSS,  Spring  Boot,  Django,  React,  Flutter.  Databases  &  Infrastructure :  PostgreSQL,  MongoDB,  Redis,  Docker,  Kubernetes,  RabbitMQ,  OpenTelemetry.   \\n\\nWith this context, please chat with the user, always staying in character as Artem Mykytyshyn.\"}, {'role': 'user', 'metadata': None, 'content': 'hey', 'options': None}, {'role': 'assistant', 'metadata': None, 'content': 'Hello! How can I assist you today? If you have any questions about my background, skills, or experience, feel free to ask!', 'options': None}, {'role': 'user', 'content': 'what languages do you speak?'}, ChatCompletionMessage(content=None, refusal=None, role='assistant', annotations=[], audio=None, function_call=None, tool_calls=[ChatCompletionMessageToolCall(id='call_7kfA2Uaq3G9IyuAeIKma2Uyw', function=Function(arguments='{\"question\":\"What languages does Artem Mykytyshyn speak?\"}', name='record_unknown_question'), type='function')]), {'role': 'tool', 'content': '{\"recorded\": \"ok\"}', 'tool_call_id': 'call_7kfA2Uaq3G9IyuAeIKma2Uyw'}]\n"
     ]
    }
   ],
   "source": [
    "gr.ChatInterface(chat, type=\"messages\").launch()"
   ]
  },
  {
   "cell_type": "markdown",
   "metadata": {},
   "source": [
    "## And now for deployment\n",
    "\n",
    "This code is in `app.py`\n",
    "\n",
    "We will deploy to HuggingFace Spaces. Thank you student Robert M for improving these instructions.\n",
    "\n",
    "Before you start: remember to update the files in the \"me\" directory - your LinkedIn profile and summary.txt - so that it talks about you!  \n",
    "Also check that there's no README file within the 1_foundations directory. If there is one, please delete it. The deploy process creates a new README file in this directory for you.\n",
    "\n",
    "1. Visit https://huggingface.co and set up an account  \n",
    "2. From the Avatar menu on the top right, choose Access Tokens. Choose \"Create New Token\". Give it WRITE permissions.\n",
    "3. Take this token and add it to your .env file: `HF_TOKEN=hf_xxx` and see note below if this token doesn't seem to get picked up during deployment  \n",
    "4. From the 1_foundations folder, enter: `uv run gradio deploy` and if for some reason this still wants you to enter your HF token, then interrupt it with ctrl+c and run this instead: `uv run dotenv -f ../.env run -- uv run gradio deploy` which forces your keys to all be set as environment variables   \n",
    "5. Follow its instructions: name it \"career_conversation\", specify app.py, choose cpu-basic as the hardware, say Yes to needing to supply secrets, provide your openai api key, your pushover user and token, and say \"no\" to github actions.  \n",
    "\n",
    "#### Extra note about the HuggingFace token\n",
    "\n",
    "A couple of students have mentioned the HuggingFace doesn't detect their token, even though it's in the .env file. Here are things to try:   \n",
    "1. Restart Cursor   \n",
    "2. Rerun load_dotenv(override=True) and use a new terminal (the + button on the top right of the Terminal)   \n",
    "3. In the Terminal, run: `uv tool install 'huggingface_hub[cli]'` to install the HuggingFace tool, then `hf auth login` to login at the command line  \n",
    "Thank you James, Martins amd Andras for these tips.  \n",
    "\n",
    "#### More about these secrets:\n",
    "\n",
    "If you're confused by what's going on with these secrets: it just wants you to enter the key name and value for each of your secrets -- so you would enter:  \n",
    "`OPENAI_API_KEY`  \n",
    "Followed by:  \n",
    "`sk-proj-...`  \n",
    "\n",
    "And if you don't want to set secrets this way, or something goes wrong with it, it's no problem - you can change your secrets later:  \n",
    "1. Log in to HuggingFace website  \n",
    "2. Go to your profile screen via the Avatar menu on the top right  \n",
    "3. Select the Space you deployed  \n",
    "4. Click on the Settings wheel on the top right  \n",
    "5. You can scroll down to change your secrets, delete the space, etc.\n",
    "\n",
    "#### And now you should be deployed!\n",
    "\n",
    "Here is mine: https://huggingface.co/spaces/ed-donner/Career_Conversation\n",
    "\n",
    "I just got a push notification that a student asked me how they can become President of their country 😂😂\n",
    "\n",
    "For more information on deployment:\n",
    "\n",
    "https://www.gradio.app/guides/sharing-your-app#hosting-on-hf-spaces\n",
    "\n",
    "To delete your Space in the future:  \n",
    "1. Log in to HuggingFace\n",
    "2. From the Avatar menu, select your profile\n",
    "3. Click on the Space itself and select the settings wheel on the top right\n",
    "4. Scroll to the Delete section at the bottom\n",
    "5. ALSO: delete the README file that Gradio may have created inside this 1_foundations folder (otherwise it won't ask you the questions the next time you do a gradio deploy)\n"
   ]
  },
  {
   "cell_type": "markdown",
   "metadata": {},
   "source": [
    "<table style=\"margin: 0; text-align: left; width:100%\">\n",
    "    <tr>\n",
    "        <td style=\"width: 150px; height: 150px; vertical-align: middle;\">\n",
    "            <img src=\"../assets/exercise.png\" width=\"150\" height=\"150\" style=\"display: block;\" />\n",
    "        </td>\n",
    "        <td>\n",
    "            <h2 style=\"color:#ff7800;\">Exercise</h2>\n",
    "            <span style=\"color:#ff7800;\">• First and foremost, deploy this for yourself! It's a real, valuable tool - the future resume..<br/>\n",
    "            • Next, improve the resources - add better context about yourself. If you know RAG, then add a knowledge base about you.<br/>\n",
    "            • Add in more tools! You could have a SQL database with common Q&A that the LLM could read and write from?<br/>\n",
    "            • Bring in the Evaluator from the last lab, and add other Agentic patterns.\n",
    "            </span>\n",
    "        </td>\n",
    "    </tr>\n",
    "</table>"
   ]
  },
  {
   "cell_type": "markdown",
   "metadata": {},
   "source": [
    "<table style=\"margin: 0; text-align: left; width:100%\">\n",
    "    <tr>\n",
    "        <td style=\"width: 150px; height: 150px; vertical-align: middle;\">\n",
    "            <img src=\"../assets/business.png\" width=\"150\" height=\"150\" style=\"display: block;\" />\n",
    "        </td>\n",
    "        <td>\n",
    "            <h2 style=\"color:#00bfff;\">Commercial implications</h2>\n",
    "            <span style=\"color:#00bfff;\">Aside from the obvious (your career alter-ego) this has business applications in any situation where you need an AI assistant with domain expertise and an ability to interact with the real world.\n",
    "            </span>\n",
    "        </td>\n",
    "    </tr>\n",
    "</table>"
   ]
  }
 ],
 "metadata": {
  "kernelspec": {
   "display_name": ".venv",
   "language": "python",
   "name": "python3"
  },
  "language_info": {
   "codemirror_mode": {
    "name": "ipython",
    "version": 3
   },
   "file_extension": ".py",
   "mimetype": "text/x-python",
   "name": "python",
   "nbconvert_exporter": "python",
   "pygments_lexer": "ipython3",
   "version": "3.12.3"
  }
 },
 "nbformat": 4,
 "nbformat_minor": 2
}
