{
 "cells": [
  {
   "cell_type": "markdown",
   "metadata": {},
   "source": [
    "## Welcome to Lab 3 for Week 1 Day 4\n",
    "\n",
    "Today we're going to build something with immediate value!\n",
    "\n",
    "In the folder `me` I've put a single file `linkedin.pdf` - it's a PDF download of my LinkedIn profile.\n",
    "\n",
    "Please replace it with yours!\n",
    "\n",
    "I've also made a file called `summary.txt`\n",
    "\n",
    "We're not going to use Tools just yet - we're going to add the tool tomorrow."
   ]
  },
  {
   "cell_type": "markdown",
   "metadata": {},
   "source": [
    "<table style=\"margin: 0; text-align: left; width:100%\">\n",
    "    <tr>\n",
    "        <td style=\"width: 150px; height: 150px; vertical-align: middle;\">\n",
    "            <img src=\"../assets/tools.png\" width=\"150\" height=\"150\" style=\"display: block;\" />\n",
    "        </td>\n",
    "        <td>\n",
    "            <h2 style=\"color:#00bfff;\">Looking up packages</h2>\n",
    "            <span style=\"color:#00bfff;\">In this lab, we're going to use the wonderful Gradio package for building quick UIs, \n",
    "            and we're also going to use the popular PyPDF PDF reader. You can get guides to these packages by asking \n",
    "            ChatGPT or Claude, and you find all open-source packages on the repository <a href=\"https://pypi.org\">https://pypi.org</a>.\n",
    "            </span>\n",
    "        </td>\n",
    "    </tr>\n",
    "</table>"
   ]
  },
  {
   "cell_type": "code",
   "execution_count": 1,
   "metadata": {},
   "outputs": [],
   "source": [
    "# If you don't know what any of these packages do - you can always ask ChatGPT for a guide!\n",
    "\n",
    "from dotenv import load_dotenv\n",
    "from openai import OpenAI, AzureOpenAI\n",
    "from pypdf import PdfReader\n",
    "import gradio as gr"
   ]
  },
  {
   "cell_type": "code",
   "execution_count": 2,
   "metadata": {},
   "outputs": [],
   "source": [
    "load_dotenv(override=True)\n",
    "\n",
    "import os\n",
    "endpoint = os.getenv('AZURE_OPENAI_ENDPOINT')\n",
    "azure_key = os.getenv('AZURE_OPENAI_API_KEY')\n",
    "deployment_chat = os.getenv('AZURE_OPENAI_DEPLOYMENT_CHAT')\n",
    "api_version_chat = os.getenv('AZURE_OPENAI_API_VERSION_CHAT')\n",
    "deployment_reasoning = os.getenv('AZURE_OPENAI_DEPLOYMENT_REASONING')\n",
    "api_version_reasoning = os.getenv('AZURE_OPENAI_API_VERSION_REASONING')\n",
    "\n",
    "openai_chat = AzureOpenAI(\n",
    "    api_version=api_version_chat,\n",
    "    azure_endpoint=endpoint,\n",
    "    api_key=azure_key,\n",
    ")\n",
    "\n",
    "openai_reasoning = AzureOpenAI(\n",
    "    api_version=api_version_reasoning,\n",
    "    azure_endpoint=endpoint,\n",
    "    api_key=azure_key,\n",
    ")"
   ]
  },
  {
   "cell_type": "code",
   "execution_count": 3,
   "metadata": {},
   "outputs": [],
   "source": [
    "reader = PdfReader(\"me/Amazon, 2025 February 9.pdf\")\n",
    "linkedin = \"\"\n",
    "for page in reader.pages:\n",
    "    text = page.extract_text()\n",
    "    if text:\n",
    "        linkedin += text"
   ]
  },
  {
   "cell_type": "code",
   "execution_count": 4,
   "metadata": {},
   "outputs": [
    {
     "name": "stdout",
     "output_type": "stream",
     "text": [
      "ARTEM  MYKYTYSHYN  Toronto,  ON  |  +1  (437)  239-6115  |  artem.mykytyshyn@gmail.com |  linkedin.com/in/artem-mykytyshyn Authorized  to  work  in  Canada;  no  visa  sponsorship  required   \n",
      "WORK  EXPERIENCE \n",
      " \n",
      " \n",
      "Workspace  Safety  and  Insurance  Board  (WSIB) Sep  2024  -  Present  Software  Developer  Toronto,  ON,  Canada ●  Building  an  AI-powered  document  simplification  tool  using  FastAPI/Python  and  React/JavaScript,  transforming  a  PoC  into  \n",
      "a\n",
      " \n",
      "secure,\n",
      " \n",
      "production-ready\n",
      " \n",
      "product\n",
      " \n",
      "based\n",
      " \n",
      "on\n",
      " \n",
      "business\n",
      " \n",
      "needs.\n",
      " ●  Developed  an  enterprise  request  intake  tool  from  the  ground  up  using  Spring  Boot/Java  (back  end)  and  React/JavaScript  \n",
      "(front\n",
      " \n",
      "end),\n",
      " \n",
      "with\n",
      " \n",
      "Azure\n",
      " \n",
      "SQL\n",
      " \n",
      "Database\n",
      " \n",
      "and\n",
      " \n",
      "RabbitMQ,\n",
      " \n",
      "serving\n",
      " \n",
      "500+\n",
      " \n",
      "unique\n",
      " \n",
      "users\n",
      " \n",
      "and\n",
      " \n",
      "supporting\n",
      " \n",
      "500+\n",
      " \n",
      "concurrent\n",
      " \n",
      "sessions.\n",
      " ●  Identified  and  fixed  an  issue  in  a  notification  microservice,  where  a  misconfigured  message  queue  caused  mass  emails  to  be  \n",
      "sent\n",
      " \n",
      "company-wide\n",
      " \n",
      "after\n",
      " \n",
      "a\n",
      " \n",
      "service\n",
      " \n",
      "restart.\n",
      " \n",
      "Prevented\n",
      " \n",
      "200+\n",
      " \n",
      "unintended\n",
      " \n",
      "emails.\n",
      " ●  Advocated  for  integrating  a  design  team  to  improve  UI/UX,  acting  as  the  bridge  between  developers,  designers,  and  the  \n",
      "communications\n",
      " \n",
      "team;\n",
      " \n",
      "implemented\n",
      " \n",
      "feedback\n",
      " \n",
      "to\n",
      " \n",
      "achieve\n",
      " \n",
      "WCAG\n",
      " \n",
      "Level\n",
      " \n",
      "AA\n",
      " \n",
      "accessibility\n",
      " \n",
      "compliance\n",
      " \n",
      "and\n",
      " \n",
      "enhance\n",
      " \n",
      "usability.\n",
      " ●  Organized  14  UX  interviews,  6  UAT  sessions,  15+  demos,  and  2  training  sessions  to  improve  usability  and  adoption.   Workspace  Safety  and  Insurance  Board  (WSIB) May  2024  -  Aug  2024  Developer  Intern  Waterloo,  ON,  Canada ●  Contributed  to  the  initial  development  of  the  request  intake  tool,  gathering  requirements  from  10+  stakeholders,  designing  \n",
      "architecture,\n",
      " \n",
      "building\n",
      " \n",
      "early\n",
      " \n",
      "prototypes,\n",
      " \n",
      "and\n",
      " \n",
      "testing\n",
      " \n",
      "integrations\n",
      " \n",
      "with\n",
      " \n",
      "Office\n",
      " \n",
      "365,\n",
      " \n",
      "Outlook,\n",
      " \n",
      "and\n",
      " \n",
      "Teams.\n",
      " ●  Proposed,  designed,  and  implemented  a  Python  library  to  automate  data  integrity  tests  using  Pandas,  replacing  a  2-day  \n",
      "manual\n",
      " \n",
      "process\n",
      " \n",
      "with\n",
      " \n",
      "a\n",
      " \n",
      "1-minute\n",
      " \n",
      "automated\n",
      " \n",
      "solution.\n",
      " ●  Developed  scripts  to  migrate  100M+  records  from  an  on-prem  system  to  Azure  using  PySpark,  SQL,  Python,  and  R.   PROJECTS \n",
      " \n",
      "SearchAgent:  AI  Search  Plugin  for  Shopify  |  Python,  TypeScript,  Flask,  HTML,  Shopify  API Jun  2024  -  Aug  2024  ●  Built  a  Shopify  app  that  integrates  AI  search  into  existing  stores,  outperforming  competitors  in  search  relevance  and  accuracy.  ●  Developed  the  back  end  in  Flask/Python  and  the  front  end  in  TypeScript/HTML,  integrating  REST  and  GraphQL  APIs.   Verifiable  Digital  Diploma  Issuance  System  |  JavaScript,  Node.js,  Dart,  Flutter Jan  2024  -  May  2024  ●  Developed  a  verifiable  credential  issuer  API  using  Node.js/JavaScript,  ensuring  compliance  with  EBSI,  W3C,  OpenID  \n",
      "Connect,\n",
      " \n",
      "and\n",
      " \n",
      "eIDAS\n",
      " \n",
      "standards.\n",
      " ●  Build  a  front-end  demo  website  in  Flutter/Dart  to  present  the  digital  diploma  issuance  process.   Chatbot  for  Prospective  Students  |  Python,  Telegram  Bot  API,  MongoDB,  Heroku Jan  2022  -  Oct  2022  ●  Led  a  team  of  3  developers  to  build  and  deploy  a  Telegram  chatbot  with  information  for  prospective  students,  reaching  \n",
      "1,000+\n",
      " \n",
      "users\n",
      " \n",
      "in\n",
      " \n",
      "its\n",
      " \n",
      "first\n",
      " \n",
      "year\n",
      " \n",
      "and\n",
      " \n",
      "reducing\n",
      " \n",
      "the\n",
      " \n",
      "need\n",
      " \n",
      "for\n",
      " \n",
      "manual\n",
      " \n",
      "responses\n",
      " \n",
      "from\n",
      " \n",
      "student\n",
      " \n",
      "volunteers.\n",
      " ●  Implemented  a  virtual  waiting  line  in  the  chatbot,  used  by  300+  students  to  reserve  spots  for  document  submission  and  get  \n",
      "real-time\n",
      " \n",
      "notifications\n",
      " \n",
      "–\n",
      " \n",
      "cutting\n",
      " \n",
      "wait\n",
      " \n",
      "times\n",
      " \n",
      "from\n",
      " \n",
      "~2\n",
      " \n",
      "hours\n",
      " \n",
      "to\n",
      " \n",
      "a\n",
      " \n",
      "few\n",
      " \n",
      "minutes.\n",
      " ●  Selected  and  onboarded  2  new  developers,  handing  off  the  project  for  continued  development  and  maintenance.   EDUCATION \n",
      " \n",
      " \n",
      "Bachelor  of  Computer  Science  |  National  University  of  Kyiv-Mohyla  Academy  |  Kyiv,  Ukraine  Sep  2021  -  Jun  2025 GPA:  93.62/100.00;  Presidential  Scholarship,  awarded  to  the  top  270  students  nationwide   Non-Degree  Exchange  Program,  Computer  Science  |  University  of  Toronto  |  Toronto,  ON,  Canada  Jan  2023  -  Apr  2024 GPA:  3.82/4.0;  Temerty  Foundation  nominal  scholarship   SKILLS \n",
      "Technical  Knowledge:  Software  Engineering,  Back-end  Development,  Microservices,  Algorithms,  Data  Structures,  OOP,  \n",
      "Design\n",
      " \n",
      "Patterns,\n",
      " \n",
      "Web\n",
      " \n",
      "Development,\n",
      " \n",
      "Software\n",
      " \n",
      "Testing,\n",
      " \n",
      "Documentation,\n",
      " \n",
      "Mobile\n",
      " \n",
      "Development,\n",
      " \n",
      "Machine\n",
      " \n",
      "Learning.\n",
      " Languages  &  Frameworks :  Java,  Python,  Go,  Swift,  Dart,  JavaScript,  SQL,  HTML,  CSS,  Spring  Boot,  Django,  React,  Flutter.  Databases  &  Infrastructure :  PostgreSQL,  MongoDB,  Redis,  Docker,  Kubernetes,  RabbitMQ,  OpenTelemetry.   \n"
     ]
    }
   ],
   "source": [
    "print(linkedin)"
   ]
  },
  {
   "cell_type": "code",
   "execution_count": 5,
   "metadata": {},
   "outputs": [],
   "source": [
    "with open(\"me/summary.txt\", \"r\", encoding=\"utf-8\") as f:\n",
    "    summary = f.read()"
   ]
  },
  {
   "cell_type": "code",
   "execution_count": 6,
   "metadata": {},
   "outputs": [],
   "source": [
    "name = \"Artem Mykytyshyn\""
   ]
  },
  {
   "cell_type": "code",
   "execution_count": 7,
   "metadata": {},
   "outputs": [],
   "source": [
    "system_prompt = f\"You are acting as {name}. You are answering questions on {name}'s website, \\\n",
    "particularly questions related to {name}'s career, background, skills and experience. \\\n",
    "Your responsibility is to represent {name} for interactions on the website as faithfully as possible. \\\n",
    "You are given a summary of {name}'s background and resume which you can use to answer questions. \\\n",
    "Be professional and engaging, as if talking to a potential client or future employer who came across the website. \\\n",
    "If you don't know the answer, say so.\"\n",
    "\n",
    "system_prompt += f\"\\n\\n## Summary:\\n{summary}\\n\\n## Resume:\\n{linkedin}\\n\\n\"\n",
    "system_prompt += f\"With this context, please chat with the user, always staying in character as {name}.\"\n"
   ]
  },
  {
   "cell_type": "code",
   "execution_count": 8,
   "metadata": {},
   "outputs": [
    {
     "data": {
      "text/plain": [
       "\"You are acting as Artem Mykytyshyn. You are answering questions on Artem Mykytyshyn's website, particularly questions related to Artem Mykytyshyn's career, background, skills and experience. Your responsibility is to represent Artem Mykytyshyn for interactions on the website as faithfully as possible. You are given a summary of Artem Mykytyshyn's background and resume which you can use to answer questions. Be professional and engaging, as if talking to a potential client or future employer who came across the website. If you don't know the answer, say so.\\n\\n## Summary:\\nMy name is Artem Mykytyshyn. I'm a software engineer and AI specialist.\\n\\n## Resume:\\nARTEM  MYKYTYSHYN  Toronto,  ON  |  +1  (437)  239-6115  |  artem.mykytyshyn@gmail.com |  linkedin.com/in/artem-mykytyshyn Authorized  to  work  in  Canada;  no  visa  sponsorship  required   \\nWORK  EXPERIENCE \\n \\n \\nWorkspace  Safety  and  Insurance  Board  (WSIB) Sep  2024  -  Present  Software  Developer  Toronto,  ON,  Canada ●  Building  an  AI-powered  document  simplification  tool  using  FastAPI/Python  and  React/JavaScript,  transforming  a  PoC  into  \\na\\n \\nsecure,\\n \\nproduction-ready\\n \\nproduct\\n \\nbased\\n \\non\\n \\nbusiness\\n \\nneeds.\\n ●  Developed  an  enterprise  request  intake  tool  from  the  ground  up  using  Spring  Boot/Java  (back  end)  and  React/JavaScript  \\n(front\\n \\nend),\\n \\nwith\\n \\nAzure\\n \\nSQL\\n \\nDatabase\\n \\nand\\n \\nRabbitMQ,\\n \\nserving\\n \\n500+\\n \\nunique\\n \\nusers\\n \\nand\\n \\nsupporting\\n \\n500+\\n \\nconcurrent\\n \\nsessions.\\n ●  Identified  and  fixed  an  issue  in  a  notification  microservice,  where  a  misconfigured  message  queue  caused  mass  emails  to  be  \\nsent\\n \\ncompany-wide\\n \\nafter\\n \\na\\n \\nservice\\n \\nrestart.\\n \\nPrevented\\n \\n200+\\n \\nunintended\\n \\nemails.\\n ●  Advocated  for  integrating  a  design  team  to  improve  UI/UX,  acting  as  the  bridge  between  developers,  designers,  and  the  \\ncommunications\\n \\nteam;\\n \\nimplemented\\n \\nfeedback\\n \\nto\\n \\nachieve\\n \\nWCAG\\n \\nLevel\\n \\nAA\\n \\naccessibility\\n \\ncompliance\\n \\nand\\n \\nenhance\\n \\nusability.\\n ●  Organized  14  UX  interviews,  6  UAT  sessions,  15+  demos,  and  2  training  sessions  to  improve  usability  and  adoption.   Workspace  Safety  and  Insurance  Board  (WSIB) May  2024  -  Aug  2024  Developer  Intern  Waterloo,  ON,  Canada ●  Contributed  to  the  initial  development  of  the  request  intake  tool,  gathering  requirements  from  10+  stakeholders,  designing  \\narchitecture,\\n \\nbuilding\\n \\nearly\\n \\nprototypes,\\n \\nand\\n \\ntesting\\n \\nintegrations\\n \\nwith\\n \\nOffice\\n \\n365,\\n \\nOutlook,\\n \\nand\\n \\nTeams.\\n ●  Proposed,  designed,  and  implemented  a  Python  library  to  automate  data  integrity  tests  using  Pandas,  replacing  a  2-day  \\nmanual\\n \\nprocess\\n \\nwith\\n \\na\\n \\n1-minute\\n \\nautomated\\n \\nsolution.\\n ●  Developed  scripts  to  migrate  100M+  records  from  an  on-prem  system  to  Azure  using  PySpark,  SQL,  Python,  and  R.   PROJECTS \\n \\nSearchAgent:  AI  Search  Plugin  for  Shopify  |  Python,  TypeScript,  Flask,  HTML,  Shopify  API Jun  2024  -  Aug  2024  ●  Built  a  Shopify  app  that  integrates  AI  search  into  existing  stores,  outperforming  competitors  in  search  relevance  and  accuracy.  ●  Developed  the  back  end  in  Flask/Python  and  the  front  end  in  TypeScript/HTML,  integrating  REST  and  GraphQL  APIs.   Verifiable  Digital  Diploma  Issuance  System  |  JavaScript,  Node.js,  Dart,  Flutter Jan  2024  -  May  2024  ●  Developed  a  verifiable  credential  issuer  API  using  Node.js/JavaScript,  ensuring  compliance  with  EBSI,  W3C,  OpenID  \\nConnect,\\n \\nand\\n \\neIDAS\\n \\nstandards.\\n ●  Build  a  front-end  demo  website  in  Flutter/Dart  to  present  the  digital  diploma  issuance  process.   Chatbot  for  Prospective  Students  |  Python,  Telegram  Bot  API,  MongoDB,  Heroku Jan  2022  -  Oct  2022  ●  Led  a  team  of  3  developers  to  build  and  deploy  a  Telegram  chatbot  with  information  for  prospective  students,  reaching  \\n1,000+\\n \\nusers\\n \\nin\\n \\nits\\n \\nfirst\\n \\nyear\\n \\nand\\n \\nreducing\\n \\nthe\\n \\nneed\\n \\nfor\\n \\nmanual\\n \\nresponses\\n \\nfrom\\n \\nstudent\\n \\nvolunteers.\\n ●  Implemented  a  virtual  waiting  line  in  the  chatbot,  used  by  300+  students  to  reserve  spots  for  document  submission  and  get  \\nreal-time\\n \\nnotifications\\n \\n–\\n \\ncutting\\n \\nwait\\n \\ntimes\\n \\nfrom\\n \\n~2\\n \\nhours\\n \\nto\\n \\na\\n \\nfew\\n \\nminutes.\\n ●  Selected  and  onboarded  2  new  developers,  handing  off  the  project  for  continued  development  and  maintenance.   EDUCATION \\n \\n \\nBachelor  of  Computer  Science  |  National  University  of  Kyiv-Mohyla  Academy  |  Kyiv,  Ukraine  Sep  2021  -  Jun  2025 GPA:  93.62/100.00;  Presidential  Scholarship,  awarded  to  the  top  270  students  nationwide   Non-Degree  Exchange  Program,  Computer  Science  |  University  of  Toronto  |  Toronto,  ON,  Canada  Jan  2023  -  Apr  2024 GPA:  3.82/4.0;  Temerty  Foundation  nominal  scholarship   SKILLS \\nTechnical  Knowledge:  Software  Engineering,  Back-end  Development,  Microservices,  Algorithms,  Data  Structures,  OOP,  \\nDesign\\n \\nPatterns,\\n \\nWeb\\n \\nDevelopment,\\n \\nSoftware\\n \\nTesting,\\n \\nDocumentation,\\n \\nMobile\\n \\nDevelopment,\\n \\nMachine\\n \\nLearning.\\n Languages  &  Frameworks :  Java,  Python,  Go,  Swift,  Dart,  JavaScript,  SQL,  HTML,  CSS,  Spring  Boot,  Django,  React,  Flutter.  Databases  &  Infrastructure :  PostgreSQL,  MongoDB,  Redis,  Docker,  Kubernetes,  RabbitMQ,  OpenTelemetry.   \\n\\nWith this context, please chat with the user, always staying in character as Artem Mykytyshyn.\""
      ]
     },
     "execution_count": 8,
     "metadata": {},
     "output_type": "execute_result"
    }
   ],
   "source": [
    "system_prompt"
   ]
  },
  {
   "cell_type": "code",
   "execution_count": 9,
   "metadata": {},
   "outputs": [],
   "source": [
    "def chat(message, history):\n",
    "    messages = [{\"role\": \"system\", \"content\": system_prompt}] + history + [{\"role\": \"user\", \"content\": message}]\n",
    "    response = openai_chat.chat.completions.create(model=deployment_chat, messages=messages)\n",
    "    return response.choices[0].message.content"
   ]
  },
  {
   "cell_type": "markdown",
   "metadata": {},
   "source": [
    "## Special note for people not using OpenAI\n",
    "\n",
    "Some providers, like Groq, might give an error when you send your second message in the chat.\n",
    "\n",
    "This is because Gradio shoves some extra fields into the history object. OpenAI doesn't mind; but some other models complain.\n",
    "\n",
    "If this happens, the solution is to add this first line to the chat() function above. It cleans up the history variable:\n",
    "\n",
    "```python\n",
    "history = [{\"role\": h[\"role\"], \"content\": h[\"content\"]} for h in history]\n",
    "```\n",
    "\n",
    "You may need to add this in other chat() callback functions in the future, too."
   ]
  },
  {
   "cell_type": "code",
   "execution_count": 10,
   "metadata": {},
   "outputs": [
    {
     "name": "stdout",
     "output_type": "stream",
     "text": [
      "* Running on local URL:  http://127.0.0.1:7860\n",
      "* To create a public link, set `share=True` in `launch()`.\n"
     ]
    },
    {
     "data": {
      "text/html": [
       "<div><iframe src=\"http://127.0.0.1:7860/\" width=\"100%\" height=\"500\" allow=\"autoplay; camera; microphone; clipboard-read; clipboard-write;\" frameborder=\"0\" allowfullscreen></iframe></div>"
      ],
      "text/plain": [
       "<IPython.core.display.HTML object>"
      ]
     },
     "metadata": {},
     "output_type": "display_data"
    },
    {
     "data": {
      "text/plain": []
     },
     "execution_count": 10,
     "metadata": {},
     "output_type": "execute_result"
    }
   ],
   "source": [
    "gr.ChatInterface(chat, type=\"messages\").launch()"
   ]
  },
  {
   "cell_type": "markdown",
   "metadata": {},
   "source": [
    "## A lot is about to happen...\n",
    "\n",
    "1. Be able to ask an LLM to evaluate an answer\n",
    "2. Be able to rerun if the answer fails evaluation\n",
    "3. Put this together into 1 workflow\n",
    "\n",
    "All without any Agentic framework!"
   ]
  },
  {
   "cell_type": "code",
   "execution_count": 11,
   "metadata": {},
   "outputs": [],
   "source": [
    "# Create a Pydantic model for the Evaluation\n",
    "\n",
    "from pydantic import BaseModel\n",
    "\n",
    "class Evaluation(BaseModel):\n",
    "    is_acceptable: bool\n",
    "    feedback: str\n"
   ]
  },
  {
   "cell_type": "code",
   "execution_count": 12,
   "metadata": {},
   "outputs": [],
   "source": [
    "evaluator_system_prompt = f\"You are an evaluator that decides whether a response to a question is acceptable. \\\n",
    "You are provided with a conversation between a User and an Agent. Your task is to decide whether the Agent's latest response is acceptable quality. \\\n",
    "The Agent is playing the role of {name} and is representing {name} on their website. \\\n",
    "The Agent has been instructed to be professional and engaging, as if talking to a potential client or future employer who came across the website. \\\n",
    "The Agent has been provided with context on {name} in the form of their summary and resume details. Here's the information:\"\n",
    "\n",
    "evaluator_system_prompt += f\"\\n\\n## Summary:\\n{summary}\\n\\n## Resume:\\n{linkedin}\\n\\n\"\n",
    "evaluator_system_prompt += f\"With this context, please evaluate the latest response, replying with whether the response is acceptable and your feedback.\""
   ]
  },
  {
   "cell_type": "code",
   "execution_count": 13,
   "metadata": {},
   "outputs": [],
   "source": [
    "def evaluator_user_prompt(reply, message, history):\n",
    "    user_prompt = f\"Here's the conversation between the User and the Agent: \\n\\n{history}\\n\\n\"\n",
    "    user_prompt += f\"Here's the latest message from the User: \\n\\n{message}\\n\\n\"\n",
    "    user_prompt += f\"Here's the latest response from the Agent: \\n\\n{reply}\\n\\n\"\n",
    "    user_prompt += \"Please evaluate the response, replying with whether it is acceptable and your feedback.\"\n",
    "    return user_prompt"
   ]
  },
  {
   "cell_type": "code",
   "execution_count": 14,
   "metadata": {},
   "outputs": [],
   "source": [
    "# import os\n",
    "# gemini = OpenAI(\n",
    "#     api_key=os.getenv(\"GOOGLE_API_KEY\"), \n",
    "#     base_url=\"https://generativelanguage.googleapis.com/v1beta/openai/\"\n",
    "# )"
   ]
  },
  {
   "cell_type": "code",
   "execution_count": 28,
   "metadata": {},
   "outputs": [],
   "source": [
    "def evaluate(reply, message, history) -> Evaluation:\n",
    "\n",
    "    messages = [{\"role\": \"system\", \"content\": evaluator_system_prompt}] + [{\"role\": \"user\", \"content\": evaluator_user_prompt(reply, message, history)}]\n",
    "    response = openai_reasoning.beta.chat.completions.parse(model=deployment_reasoning, messages=messages, response_format=Evaluation)\n",
    "    return response.choices[0].message.parsed"
   ]
  },
  {
   "cell_type": "code",
   "execution_count": 29,
   "metadata": {},
   "outputs": [],
   "source": [
    "messages = [{\"role\": \"system\", \"content\": system_prompt}] + [{\"role\": \"user\", \"content\": \"do you hold a patent?\"}]\n",
    "response = openai_chat.chat.completions.create(model=deployment_chat, messages=messages)\n",
    "reply = response.choices[0].message.content"
   ]
  },
  {
   "cell_type": "code",
   "execution_count": 30,
   "metadata": {},
   "outputs": [
    {
     "data": {
      "text/plain": [
       "'As of now, I do not hold a patent. My focus has primarily been on software engineering and AI development, where I have been involved in various projects and contributions. If you have any questions regarding my work or projects, feel free to ask!'"
      ]
     },
     "execution_count": 30,
     "metadata": {},
     "output_type": "execute_result"
    }
   ],
   "source": [
    "reply"
   ]
  },
  {
   "cell_type": "code",
   "execution_count": 31,
   "metadata": {},
   "outputs": [
    {
     "data": {
      "text/plain": [
       "Evaluation(is_acceptable=True, feedback='The response directly and accurately addresses the user’s question, stays in character, maintains a professional tone, and invites further engagement. It meets the requirements.')"
      ]
     },
     "execution_count": 31,
     "metadata": {},
     "output_type": "execute_result"
    }
   ],
   "source": [
    "evaluate(reply, \"do you hold a patent?\", messages[:1])"
   ]
  },
  {
   "cell_type": "code",
   "execution_count": 35,
   "metadata": {},
   "outputs": [],
   "source": [
    "def rerun(reply, message, history, feedback):\n",
    "    updated_system_prompt = system_prompt + \"\\n\\n## Previous answer rejected\\nYou just tried to reply, but the quality control rejected your reply\\n\"\n",
    "    updated_system_prompt += f\"## Your attempted answer:\\n{reply}\\n\\n\"\n",
    "    updated_system_prompt += f\"## Reason for rejection:\\n{feedback}\\n\\n\"\n",
    "    messages = [{\"role\": \"system\", \"content\": updated_system_prompt}] + history + [{\"role\": \"user\", \"content\": message}]\n",
    "    response = openai_chat.chat.completions.create(model=deployment_chat, messages=messages)\n",
    "    return response.choices[0].message.content"
   ]
  },
  {
   "cell_type": "code",
   "execution_count": 40,
   "metadata": {},
   "outputs": [],
   "source": [
    "def chat(message, history):\n",
    "    if \"patent\" in message:\n",
    "        system = system_prompt + \"\\n\\nEverything in your reply needs to be in pig latin - \\\n",
    "              it is mandatory that you respond only and entirely in pig latin.\"\n",
    "        print(\"patent encountered\")\n",
    "    else:\n",
    "        system = system_prompt\n",
    "    messages = [{\"role\": \"system\", \"content\": system}] + history + [{\"role\": \"user\", \"content\": message}]\n",
    "    response = openai_chat.chat.completions.create(model=deployment_chat, messages=messages)\n",
    "    reply = response.choices[0].message.content\n",
    "\n",
    "    evaluation = evaluate(reply, message, history)\n",
    "    \n",
    "    if evaluation.is_acceptable:\n",
    "        print(\"Passed evaluation - returning reply\")\n",
    "    else:\n",
    "        print(\"Failed evaluation - retrying\")\n",
    "        print(evaluation.feedback)\n",
    "        reply = rerun(reply, message, history, evaluation.feedback)       \n",
    "    return reply"
   ]
  },
  {
   "cell_type": "code",
   "execution_count": 41,
   "metadata": {},
   "outputs": [
    {
     "name": "stdout",
     "output_type": "stream",
     "text": [
      "* Running on local URL:  http://127.0.0.1:7864\n",
      "* To create a public link, set `share=True` in `launch()`.\n"
     ]
    },
    {
     "data": {
      "text/html": [
       "<div><iframe src=\"http://127.0.0.1:7864/\" width=\"100%\" height=\"500\" allow=\"autoplay; camera; microphone; clipboard-read; clipboard-write;\" frameborder=\"0\" allowfullscreen></iframe></div>"
      ],
      "text/plain": [
       "<IPython.core.display.HTML object>"
      ]
     },
     "metadata": {},
     "output_type": "display_data"
    },
    {
     "data": {
      "text/plain": []
     },
     "execution_count": 41,
     "metadata": {},
     "output_type": "execute_result"
    },
    {
     "name": "stdout",
     "output_type": "stream",
     "text": [
      "patent encountered\n",
      "Failed evaluation - retrying\n",
      "The response is unprofessional and uses pig Latin, which is not appropriate for a professional website or client-facing interaction. It also fails to clearly address or clarify the user’s intent regarding “patent.” A better reply would politely ask what the user means by “patent” and offer relevant expertise or resources.\n",
      "patent encountered\n",
      "Failed evaluation - retrying\n",
      "The response is unprofessional and incomprehensible – it’s written in Pig Latin and doesn’t meaningfully address the user’s request. The agent should ask for clarification in clear, professional language and offer relevant assistance regarding patents.\n",
      "Passed evaluation - returning reply\n"
     ]
    }
   ],
   "source": [
    "gr.ChatInterface(chat, type=\"messages\").launch()"
   ]
  },
  {
   "cell_type": "markdown",
   "metadata": {},
   "source": []
  },
  {
   "cell_type": "code",
   "execution_count": null,
   "metadata": {},
   "outputs": [],
   "source": []
  }
 ],
 "metadata": {
  "kernelspec": {
   "display_name": ".venv",
   "language": "python",
   "name": "python3"
  },
  "language_info": {
   "codemirror_mode": {
    "name": "ipython",
    "version": 3
   },
   "file_extension": ".py",
   "mimetype": "text/x-python",
   "name": "python",
   "nbconvert_exporter": "python",
   "pygments_lexer": "ipython3",
   "version": "3.12.9"
  }
 },
 "nbformat": 4,
 "nbformat_minor": 2
}
